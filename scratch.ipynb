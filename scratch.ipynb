{
 "cells": [
  {
   "cell_type": "code",
   "execution_count": 1,
   "id": "e6608a34-630f-436c-8d28-9a20790bfdf4",
   "metadata": {},
   "outputs": [],
   "source": [
    "from alphas import *"
   ]
  },
  {
   "cell_type": "code",
   "execution_count": 2,
   "id": "35c4a5ba-2d48-458b-b884-4c8024a70490",
   "metadata": {},
   "outputs": [
    {
     "name": "stderr",
     "output_type": "stream",
     "text": [
      "  0%|          | 0/1 [00:00<?, ?it/s]\n"
     ]
    },
    {
     "ename": "KeyError",
     "evalue": "'vwap'",
     "output_type": "error",
     "traceback": [
      "\u001b[1;31m---------------------------------------------------------------------------\u001b[0m",
      "\u001b[1;31mKeyError\u001b[0m                                  Traceback (most recent call last)",
      "Cell \u001b[1;32mIn[2], line 4\u001b[0m\n\u001b[0;32m      2\u001b[0m u \u001b[39m=\u001b[39m Underlying()\n\u001b[0;32m      3\u001b[0m alpha_names \u001b[39m=\u001b[39m [\u001b[39m\"\u001b[39m\u001b[39malpha078\u001b[39m\u001b[39m\"\u001b[39m]\n\u001b[1;32m----> 4\u001b[0m alphas_101\u001b[39m.\u001b[39;49mcal_alphas(u, alpha_names\u001b[39m=\u001b[39;49malpha_names, n_jobs\u001b[39m=\u001b[39;49m\u001b[39m1\u001b[39;49m)\n\u001b[0;32m      5\u001b[0m alphas_101\u001b[39m.\u001b[39mtst_alphas(alpha_names\u001b[39m=\u001b[39malpha_names)\n",
      "File \u001b[1;32mc:\\Users\\Xuzhikang\\Desktop\\多任务投期刊\\alpha\\alphas.py:45\u001b[0m, in \u001b[0;36mAlphas.cal_alphas\u001b[1;34m(self, underlying, n_jobs, alpha_names)\u001b[0m\n\u001b[0;32m     43\u001b[0m \u001b[39melse\u001b[39;00m:\n\u001b[0;32m     44\u001b[0m     \u001b[39mfor\u001b[39;00m m \u001b[39min\u001b[39;00m tqdm(alpha_names):\n\u001b[1;32m---> 45\u001b[0m         _cal_alphas(underlying, m)\n",
      "File \u001b[1;32mc:\\Users\\Xuzhikang\\Desktop\\多任务投期刊\\alpha\\alphas.py:37\u001b[0m, in \u001b[0;36mAlphas.cal_alphas.<locals>._cal_alphas\u001b[1;34m(uly, m)\u001b[0m\n\u001b[0;32m     36\u001b[0m \u001b[39mdef\u001b[39;00m \u001b[39m_cal_alphas\u001b[39m(uly, m):\n\u001b[1;32m---> 37\u001b[0m     res \u001b[39m=\u001b[39m \u001b[39mgetattr\u001b[39;49m(\u001b[39mself\u001b[39;49m, m)(uly)\n\u001b[0;32m     38\u001b[0m     res\u001b[39m.\u001b[39mto_hdf(os\u001b[39m.\u001b[39mpath\u001b[39m.\u001b[39mjoin(DATA_PATH, \u001b[39m\"\u001b[39m\u001b[39mAshare_data/factor_data/\u001b[39m\u001b[39m{}\u001b[39;00m\u001b[39m_\u001b[39m\u001b[39m{}\u001b[39;00m\u001b[39m.h5\u001b[39m\u001b[39m\"\u001b[39m\u001b[39m.\u001b[39mformat(\u001b[39mself\u001b[39m\u001b[39m.\u001b[39mname, m)), key\u001b[39m=\u001b[39mm)\n",
      "File \u001b[1;32mc:\\Users\\Xuzhikang\\Desktop\\多任务投期刊\\alpha\\alphas.py:725\u001b[0m, in \u001b[0;36mAlphas101.alpha078\u001b[1;34m(underlying)\u001b[0m\n\u001b[0;32m    722\u001b[0m \u001b[39m@staticmethod\u001b[39m\n\u001b[0;32m    723\u001b[0m \u001b[39mdef\u001b[39;00m \u001b[39malpha078\u001b[39m(underlying):\n\u001b[0;32m    724\u001b[0m     volume \u001b[39m=\u001b[39m underlying\u001b[39m.\u001b[39mdata[\u001b[39m\"\u001b[39m\u001b[39mvolume\u001b[39m\u001b[39m\"\u001b[39m]\u001b[39m.\u001b[39mcopy()\n\u001b[1;32m--> 725\u001b[0m     vwap \u001b[39m=\u001b[39m underlying\u001b[39m.\u001b[39;49mdata[\u001b[39m\"\u001b[39;49m\u001b[39mvwap\u001b[39;49m\u001b[39m\"\u001b[39;49m]\u001b[39m.\u001b[39mcopy()\n\u001b[0;32m    726\u001b[0m     low \u001b[39m=\u001b[39m underlying\u001b[39m.\u001b[39mdata[\u001b[39m\"\u001b[39m\u001b[39mlow\u001b[39m\u001b[39m\"\u001b[39m]\u001b[39m.\u001b[39mcopy()\n\u001b[0;32m    727\u001b[0m     adv40 \u001b[39m=\u001b[39m ts_mean(volume, \u001b[39m40\u001b[39m)\n",
      "\u001b[1;31mKeyError\u001b[0m: 'vwap'"
     ]
    }
   ],
   "source": [
    "alphas_101 = Alphas101(\"alphas_101\")\n",
    "u = Underlying()\n",
    "alpha_names = [\"alpha078\"]\n",
    "alphas_101.cal_alphas(u, alpha_names=alpha_names, n_jobs=1)\n",
    "alphas_101.tst_alphas(alpha_names=alpha_names)"
   ]
  },
  {
   "cell_type": "code",
   "execution_count": null,
   "id": "d2549545-5161-4360-9fd5-db97d5d813e4",
   "metadata": {},
   "outputs": [],
   "source": []
  }
 ],
 "metadata": {
  "kernelspec": {
   "display_name": "ml",
   "language": "python",
   "name": "python3"
  },
  "language_info": {
   "codemirror_mode": {
    "name": "ipython",
    "version": 3
   },
   "file_extension": ".py",
   "mimetype": "text/x-python",
   "name": "python",
   "nbconvert_exporter": "python",
   "pygments_lexer": "ipython3",
   "version": "3.8.15"
  }
 },
 "nbformat": 4,
 "nbformat_minor": 5
}
